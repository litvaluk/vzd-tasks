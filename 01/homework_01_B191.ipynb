{
 "cells": [
  {
   "cell_type": "markdown",
   "metadata": {},
   "source": [
    "# Úkol č. 1 - vizualizace dat a web scraping (do 20. října)\n",
    "\n",
    "  * V rámci tohoto úkolu musíte stáhnout dat z webu (tzv. _web scraping_, velmi základní) a následně data zpracovat a vizualizovat.\n",
    "  * Cílem bude stáhnout data ze serveru https://www.volby.cz týkající se voleb do zastupitelstva Vámi vybraného (většího) města, uložit data o závěrečných pracích v tabulkovém formátu a pak vymyslet vizualizace a zobrazení dat, které umožní orientaci v těchto datech a zvýrazní zajímavé informace a zobrazit přehledně časový vývoj různých veličin.\n",
    " \n",
    "> **Úkoly jsou zadány tak, aby Vám daly prostor pro invenci. Vymyslet _jak přesně_ budete úkol řešit, je důležitou součástí zadání a originalita či nápaditost bude také hodnocena!**\n",
    "\n",
    "## Výběr zdroje dat\n",
    "\n",
    "Vyberte si větší město, které má zastupitelstvo druhu 3 (Zastupitelstvo statutárního města) a strojově stáhněte informace o stranách a kandidátkách z následujících let:\n",
    " * [2002](https://www.volby.cz/pls/kv2002/kv12?xjazyk=CZ&xid=0), [2006](https://www.volby.cz/pls/kv2006/kv12?xjazyk=CZ&xid=0), [2010](https://www.volby.cz/pls/kv2010/kv12?xjazyk=CZ&xid=0), [2014](https://www.volby.cz/pls/kv2014/kv12?xjazyk=CZ&xid=0) a [2018](https://www.volby.cz/pls/kv2018/kv12?xjazyk=CZ&xid=0).\n",
    " \n",
    "\n",
    "## Pokyny k vypracování\n",
    "\n",
    "**Základní body zadání**, za jejichž (poctivé) vypracování získáte **8 bodů**:\n",
    "  * Strojově stáhněte data pro vybrané město a uložte je všechny do (asi dvou) přehledných tabulek ve formátu _csv_.\n",
    "  * Data musí obsahovat _alespoň_ toto:\n",
    "    * Vývoj výsledků (v procentech i počtu hlasů) pro jednotlivé strany v jednotlivých letech.\n",
    "    * Seznam všech kandidátů všech stran v jednotlivých letech, u kandidáta by mělo být zaznamenáno: jméno, věk v době voleb, navrhující strana, politická příslušnost, volební zisk (procento i počet hlasů), pořadí na kandidátce, pořadí zvolení, jestli získal mandát (tyto informace získáte souhrnně ve _jmenných seznamech_).\n",
    "  * V druhé části Vašeho Jupyter notebooku pracujte s těmito tabulkami načtenými z _csv_ souboru (aby opravující nemusel spouštět stahování z webu).\n",
    "  * Tabulky ve formátu _csv_ také odevzdejte.\n",
    "  * S využitím vybraných nástrojů zpracujte data a vymyslete vizualizace a grafy, aby bylo vidět následující:\n",
    "    * Časový vývoj (po rocích voleb) počtu kandidujících stran i lidí a to celkově i po jednotlivých stranách (ve volbách, kterých se daná strana účastnila).\n",
    "    * Věkovou strukturu kandidátů celkově i za jednotlivé strany a vývoj této struktury během jednotlivých voleb.\n",
    "    * Časový vývoj volební účasti a volebních výsledků jednotlivých stran.\n",
    "    * Časový vývoj podílu kandidujících s titulem a bez titulu.\n",
    "\n",
    "**Další body zadání** za případné další body (můžete si vybrat, maximum bodů za úkol je každopádně 12 bodů):\n",
    "  * (až +2 body) U titulů se pokuste rozlišit i různé stupně vzdělání: bakalářský, magisterský, doktorský a vyšší, vojenská hodnost atp. Zkuste odhadnout i podíl žen na kandidátkách.\n",
    "  * (až +4 body) Pokuste se u jednotlivých kandidátů zjistit, zda kandidovali ve více volbách. Najděte 10 nejpilnějších kandidátů a vypište jejich volební zisky a za jaké strany kandidovali.\n",
    "  * (až +2 body) Najděte nějaký balíček, který Vám dovolí do Vašeho notebooku zavést interaktivní prvky, např. si vyberete v select-boxu stranu a Váš notebook zobrazí grafy pouze pro ni atp.\n",
    "\n",
    "## Poznámky k odevzdání\n",
    "\n",
    "  * Řiďte se pokyny ze stránky https://courses.fit.cvut.cz/BI-VZD/homeworks/index.html.\n",
    "  * Odevzdejte nejen Jupyter Notebook, ale i _csv_ soubor(y) se staženými daty.\n",
    "  * Opravující Vám může umožnit úkol dodělat či opravit a získat tak další body. První verze je ale důležitá a bude-li odbytá, budete za to penalizováni."
   ]
  },
  {
   "cell_type": "markdown",
   "metadata": {},
   "source": [
    "## Řešení"
   ]
  },
  {
   "cell_type": "code",
   "execution_count": null,
   "metadata": {},
   "outputs": [],
   "source": [
    "# imports\n",
    "import numpy as np\n",
    "import pandas as pd\n",
    "import matplotlib as mpl\n",
    "import seaborn as sns\n",
    "from ipywidgets import widgets, interactive\n",
    "%matplotlib inline"
   ]
  },
  {
   "cell_type": "markdown",
   "metadata": {},
   "source": [
    "## Stáhnutí tabulek pro každý rok pro město České Budějovice\n",
    "* Pro každý rok stáhneme tři tabulky: tabulka se základními daty (voliči, účast, ...), tabulka stran, tabulka kandidátů"
   ]
  },
  {
   "cell_type": "markdown",
   "metadata": {},
   "source": [
    "### 2002"
   ]
  },
  {
   "cell_type": "code",
   "execution_count": null,
   "metadata": {},
   "outputs": [],
   "source": [
    "# election results\n",
    "url = \"https://www.volby.cz/pls/kv2002/kv1111?xjazyk=CZ&xid=0&xdz=3&xnumnuts=3101&xobec=544256\"\n",
    "dfs = pd.read_html(url, flavor=\"html5lib\", thousands=u\"\\xa0\", decimal=\".\")\n",
    "elections_2002 = dfs[0]\n",
    "parties_2002 = dfs[1]\n",
    "\n",
    "# list of names\n",
    "url = \"https://www.volby.cz/pls/kv2002/kv21111?xjazyk=CZ&xid=0&xv=11&xdz=3&xnumnuts=3101&xobec=544256&xstrana=0\"\n",
    "dfs = pd.read_html(url, flavor=\"html5lib\", thousands=u\"\\xa0\", decimal=\".\")\n",
    "candidates_2002 = dfs[0]"
   ]
  },
  {
   "cell_type": "markdown",
   "metadata": {},
   "source": [
    "### 2006"
   ]
  },
  {
   "cell_type": "code",
   "execution_count": null,
   "metadata": {},
   "outputs": [],
   "source": [
    "# election results\n",
    "url = \"https://www.volby.cz/pls/kv2006/kv1111?xjazyk=CZ&xid=0&xdz=3&xnumnuts=3101&xobec=544256\"\n",
    "dfs = pd.read_html(url, flavor=\"html5lib\", thousands=u\"\\xa0\", decimal=\",\")\n",
    "elections_2006 = dfs[0]\n",
    "parties_2006 = dfs[1]\n",
    "\n",
    "# list of names\n",
    "url = \"https://www.volby.cz/pls/kv2006/kv21111?xjazyk=CZ&xid=0&xv=11&xdz=3&xnumnuts=3101&xobec=544256&xstrana=0\"\n",
    "dfs = pd.read_html(url, flavor=\"html5lib\", thousands=u\"\\xa0\", decimal=\",\")\n",
    "candidates_2006 = dfs[0]"
   ]
  },
  {
   "cell_type": "markdown",
   "metadata": {},
   "source": [
    "### 2010"
   ]
  },
  {
   "cell_type": "code",
   "execution_count": null,
   "metadata": {},
   "outputs": [],
   "source": [
    "# election results\n",
    "url = \"https://www.volby.cz/pls/kv2010/kv1111?xjazyk=CZ&xid=0&xdz=3&xnumnuts=3101&xobec=544256\"\n",
    "dfs = pd.read_html(url, flavor=\"html5lib\", thousands=u\"\\xa0\", decimal=\",\")\n",
    "elections_2010 = dfs[0]\n",
    "parties_2010 = dfs[1]\n",
    "\n",
    "# list of names\n",
    "url = \"https://www.volby.cz/pls/kv2010/kv21111?xjazyk=CZ&xid=0&xv=11&xdz=3&xnumnuts=3101&xobec=544256&xstrana=0\"\n",
    "dfs = pd.read_html(url, flavor=\"html5lib\", thousands=u\"\\xa0\", decimal=\",\")\n",
    "candidates_2010 = dfs[0]"
   ]
  },
  {
   "cell_type": "markdown",
   "metadata": {},
   "source": [
    "### 2014"
   ]
  },
  {
   "cell_type": "code",
   "execution_count": null,
   "metadata": {},
   "outputs": [],
   "source": [
    "# election results\n",
    "url = \"https://www.volby.cz/pls/kv2014/kv1111?xjazyk=CZ&xid=0&xdz=3&xnumnuts=3101&xobec=544256\"\n",
    "dfs = pd.read_html(url, flavor=\"html5lib\", thousands=u\"\\xa0\", decimal=\",\")\n",
    "elections_2014 = dfs[0]\n",
    "parties_2014 = dfs[1]\n",
    "\n",
    "# list of names\n",
    "url = \"https://www.volby.cz/pls/kv2014/kv21111?xjazyk=CZ&xid=0&xv=11&xdz=3&xnumnuts=3101&xobec=544256&xstrana=0\"\n",
    "dfs = pd.read_html(url, flavor=\"html5lib\", thousands=u\"\\xa0\", decimal=\",\")\n",
    "candidates_2014 = dfs[0]"
   ]
  },
  {
   "cell_type": "markdown",
   "metadata": {},
   "source": [
    "### 2018"
   ]
  },
  {
   "cell_type": "code",
   "execution_count": null,
   "metadata": {},
   "outputs": [],
   "source": [
    "# election results\n",
    "url = \"https://www.volby.cz/pls/kv2018/kv1111?xjazyk=CZ&xid=0&xdz=3&xnumnuts=3101&xobec=544256\"\n",
    "dfs = pd.read_html(url, flavor=\"html5lib\", thousands=u\"\\xa0\", decimal=\",\")\n",
    "elections_2018 = dfs[0]\n",
    "parties_2018 = dfs[1]\n",
    "\n",
    "# list of names\n",
    "url = \"https://www.volby.cz/pls/kv2018/kv21111?xjazyk=CZ&xid=0&xv=11&xdz=3&xnumnuts=3101&xobec=544256&xstrana=0\"\n",
    "dfs = pd.read_html(url, flavor=\"html5lib\", thousands=u\"\\xa0\", decimal=\",\")\n",
    "candidates_2018 = dfs[0]"
   ]
  },
  {
   "cell_type": "markdown",
   "metadata": {},
   "source": [
    "## Úpravy tabulek do správného formátu, spojení a uložení do CSV\n",
    "### Tabulka se základními informacemi"
   ]
  },
  {
   "cell_type": "code",
   "execution_count": null,
   "metadata": {},
   "outputs": [],
   "source": [
    "# rename columns\n",
    "elections_cols = [\"Počet volených členů zastupitelstva\", \"Počet volebních obvodů\", \"Počet okrsků\",\n",
    "                  \"Počet zpracovaných okrsků\", \"Počet zpracovaných okrsků v %\", \"Zapsaní voliči\",\n",
    "                  \"Vydané obálky\", \"Volební účast v %\", \"Odevzdané obálky\", \"Platné hlasy\"]\n",
    "elections_2002.columns = elections_cols\n",
    "elections_2006.columns = elections_cols\n",
    "elections_2010.columns = elections_cols\n",
    "elections_2014.columns = elections_cols\n",
    "elections_2018.columns = elections_cols\n",
    "\n",
    "# add corresponding year\n",
    "elections_2002[\"Rok\"] = 2002\n",
    "elections_2006[\"Rok\"] = 2006\n",
    "elections_2010[\"Rok\"] = 2010\n",
    "elections_2014[\"Rok\"] = 2014\n",
    "elections_2018[\"Rok\"] = 2018\n",
    "\n",
    "# concatenate\n",
    "elections = pd.concat([elections_2002, elections_2006, elections_2010, elections_2014, elections_2018],\n",
    "                      ignore_index=True)"
   ]
  },
  {
   "cell_type": "markdown",
   "metadata": {},
   "source": [
    "### Tabulka se stranami"
   ]
  },
  {
   "cell_type": "code",
   "execution_count": null,
   "metadata": {},
   "outputs": [],
   "source": [
    "# rename columns\n",
    "parties_cols = [\"Číslo\", \"Název\", \"Hlasy abs.\", \"Hlasy v %\", \"Počet kandidátů\",\n",
    "                \"Přepočtený základ dle počtu kandidátů\", \"Přepočtené % platných hlasů\",\n",
    "                \"Počet mandátů\", \"Podíly hlasů\"]\n",
    "parties_2002.columns = parties_cols\n",
    "parties_2006.columns = parties_cols\n",
    "parties_2010.columns = parties_cols\n",
    "parties_2014.columns = parties_cols\n",
    "parties_2018.columns = parties_cols\n",
    "\n",
    "# add corresponding year\n",
    "parties_2002[\"Rok\"] = 2002\n",
    "parties_2006[\"Rok\"] = 2006\n",
    "parties_2010[\"Rok\"] = 2010\n",
    "parties_2014[\"Rok\"] = 2014\n",
    "parties_2018[\"Rok\"] = 2018\n",
    "\n",
    "# concatenate\n",
    "parties = pd.concat([parties_2002, parties_2006, parties_2010, parties_2014, parties_2018],\n",
    "                      ignore_index=True)\n",
    "\n",
    "# drop unnecessary column 'Podíly hlasů'\n",
    "parties = parties.drop(\"Podíly hlasů\", axis=1)"
   ]
  },
  {
   "cell_type": "markdown",
   "metadata": {},
   "source": [
    "### Tabulka s kandidáty"
   ]
  },
  {
   "cell_type": "code",
   "execution_count": null,
   "metadata": {},
   "outputs": [],
   "source": [
    "# rename columns\n",
    "candidates_2002_cols = [\"Číslo\", \"Název\", \"Pořadové číslo\", \"Příjmení, jméno\", \"Tituly\", \"Věk\",\n",
    "                        \"Navrhující strana\", \"Politická příslušnost\", \"Hlasy abs.\", \"Hlasy v %\",\n",
    "                        \"Pořadí zvolení/náhradníka\", \"Mandát\"]\n",
    "candidates_cols = [\"Číslo\", \"Název\", \"Pořadové číslo\", \"Příjmení, jméno, tituly\", \"Věk\",\n",
    "                        \"Navrhující strana\", \"Politická příslušnost\", \"Hlasy abs.\", \"Hlasy v %\",\n",
    "                        \"Pořadí zvolení/náhradníka\", \"Mandát\"]\n",
    "candidates_2002.columns = candidates_2002_cols\n",
    "candidates_2006.columns = candidates_cols\n",
    "candidates_2010.columns = candidates_cols\n",
    "candidates_2014.columns = candidates_cols\n",
    "candidates_2018.columns = candidates_cols\n",
    "\n",
    "# add corresponding year\n",
    "candidates_2002[\"Rok\"] = 2002\n",
    "candidates_2006[\"Rok\"] = 2006\n",
    "candidates_2010[\"Rok\"] = 2010\n",
    "candidates_2014[\"Rok\"] = 2014\n",
    "candidates_2018[\"Rok\"] = 2018\n",
    "\n",
    "# concatenate candidates tables 2006, 2010, 2014, 2018\n",
    "candidates_new = pd.concat([candidates_2006, candidates_2010, candidates_2014, candidates_2018],\n",
    "                           ignore_index=True)\n",
    "\n",
    "# split name and academic degrees to separate columns in candidates tables 2006, 2010, 2014, 2018\n",
    "# this is actually more complicated than it sounds, people can have more than 2 names\n",
    "def construct(df):\n",
    "    out = pd.DataFrame(columns=[\"Příjmení, jméno\", \"Tituly\"])\n",
    "    degrees = [None, 'RNDr.', 'Bc.', 'Ing.', 'Mgr.', 'RSDr.', 'MUDr.', 'Doc.',\n",
    "       'DiS', 'JUDr.', 'ak.mal.', 'PhDr.', 'DiS.', 'dipl.', 'doc.', 'MgA.', 'prof.',\n",
    "       'MSc.,', 'ak.', 'MVDr.', 'Jur.', 'PaedDr.', 'Dr.', 'MBA', 'BBS', 'Ph.D.']\n",
    "    for i, r in df.iterrows():\n",
    "        index = 0\n",
    "        for ii, rr in enumerate(r):\n",
    "            if rr in degrees:\n",
    "                index = ii\n",
    "                break\n",
    "        jmeno = \"\"\n",
    "        tituly = np.nan\n",
    "        for ii, rr in enumerate(r):\n",
    "            if ii < index:\n",
    "                if jmeno != \"\":\n",
    "                    jmeno += \" \"\n",
    "                jmeno += rr\n",
    "            elif ii >= index:\n",
    "                if rr != None:\n",
    "                    if not isinstance(tituly, str):\n",
    "                        tituly = \"\"\n",
    "                    if tituly != \"\":\n",
    "                        tituly += \" \"\n",
    "                    tituly += rr\n",
    "        out = out.append({\"Příjmení, jméno\" : jmeno,\n",
    "                          \"Tituly\" : tituly},\n",
    "                          ignore_index=True)\n",
    "    return out\n",
    "\n",
    "new = construct(candidates_new[\"Příjmení, jméno, tituly\"].str.split(n=0, expand=True))\n",
    "candidates_new = candidates_new.drop(\"Příjmení, jméno, tituly\", axis=1)\n",
    "candidates_new.insert(3, \"Příjmení, jméno\", new[\"Příjmení, jméno\"])\n",
    "candidates_new.insert(4, \"Tituly\", new[\"Tituly\"])\n",
    "\n",
    "# format 'Mandát' column to a boolean\n",
    "candidates_2002[\"Mandát\"].replace({'*': True, np.nan: False}, inplace=True)\n",
    "candidates_new[\"Mandát\"].replace({'*': True, '-': False}, inplace=True)\n",
    "candidates_new.fillna(value=np.nan, inplace=True)\n",
    "candidates_new[\"Pořadí zvolení/náhradníka\"] = pd.to_numeric(candidates_new[\"Pořadí zvolení/náhradníka\"],\n",
    "                                                             errors=\"coerce\")\n",
    "# concatenate\n",
    "candidates = pd.concat([candidates_2002, candidates_new], ignore_index=True)\n",
    "\n",
    "# format 'Pořadí zvolení/náhradníka' column to int64 (NaN values to zero)\n",
    "candidates[\"Pořadí zvolení/náhradníka\"] = candidates[\"Pořadí zvolení/náhradníka\"].fillna(0).astype(np.int64)\n",
    "\n",
    "# replace \\xa0 with space\n",
    "candidates[\"Příjmení, jméno\"] = candidates[\"Příjmení, jméno\"].str.replace(u\"\\xa0\", \" \")"
   ]
  },
  {
   "cell_type": "markdown",
   "metadata": {},
   "source": [
    "### Uložení do csv"
   ]
  },
  {
   "cell_type": "code",
   "execution_count": null,
   "metadata": {},
   "outputs": [],
   "source": [
    "elections.to_csv(\"elections.csv\", sep=\";\", index=False)\n",
    "parties.to_csv(\"parties.csv\", sep=\";\", index=False)\n",
    "candidates.to_csv(\"candidates.csv\", sep=\";\", index=False)"
   ]
  },
  {
   "cell_type": "markdown",
   "metadata": {},
   "source": [
    "## Práce s grafy\n",
    "### Načtení z CSV"
   ]
  },
  {
   "cell_type": "code",
   "execution_count": null,
   "metadata": {},
   "outputs": [],
   "source": [
    "elections = pd.read_csv(\"elections.csv\", sep=\";\")\n",
    "parties = pd.read_csv(\"parties.csv\", sep=\";\")\n",
    "candidates = pd.read_csv(\"candidates.csv\", sep=\";\")\n",
    "\n",
    "# replace NaN with empty string in academic degrees\n",
    "candidates[\"Tituly\"] = candidates[\"Tituly\"].fillna(\"\")"
   ]
  },
  {
   "cell_type": "markdown",
   "metadata": {},
   "source": [
    "### Počet kandidujících stran v průběhu let"
   ]
  },
  {
   "cell_type": "code",
   "execution_count": null,
   "metadata": {
    "scrolled": true
   },
   "outputs": [],
   "source": [
    "party_count_years = parties.groupby(\"Rok\")[\"Název\"].count().to_frame()\n",
    "party_count_years.columns = [\"Počet kand. stran\"]\n",
    "ax = party_count_years.plot.bar(color=\"royalblue\", legend=False, figsize=(8, 4))\n",
    "_ = ax.set_ylabel(\"Počet kandidujících stran\")"
   ]
  },
  {
   "cell_type": "markdown",
   "metadata": {},
   "source": [
    "### Počet kandidátů ve stranách v jednotlivých letech"
   ]
  },
  {
   "cell_type": "code",
   "execution_count": null,
   "metadata": {},
   "outputs": [],
   "source": [
    "dd1 = widgets.Dropdown(\n",
    "    options=[2002, 2006, 2010, 2014, 2018],\n",
    "    value=2018,\n",
    "    description='Rok: ')\n",
    "\n",
    "def plot_candidate_count(year):\n",
    "    df = candidates.copy()\n",
    "    df = df[df[\"Rok\"] == year]\n",
    "    df = df.groupby(\"Název\")[\"Příjmení, jméno\"].count().to_frame()\n",
    "    df.columns = [\"Počet kandidátů\"]\n",
    "    ax = df.plot.bar(color=\"limegreen\", legend=False, figsize=(8, 4), ylim=[0,50])\n",
    "    ax.set_ylabel(\"Počet kandidátů\")\n",
    "    \n",
    "interactive(plot_candidate_count, year=dd1)"
   ]
  },
  {
   "cell_type": "markdown",
   "metadata": {},
   "source": [
    "### Průměrný věk kandidátů ve všech/jednotlivých stranách v průběhu let"
   ]
  },
  {
   "cell_type": "code",
   "execution_count": null,
   "metadata": {},
   "outputs": [],
   "source": [
    "dd2 = widgets.Dropdown(\n",
    "    options=['Všechny'] + list(parties['Název'].unique()),\n",
    "    value='Všechny',\n",
    "    description='Strana: ')\n",
    "\n",
    "def plot_avg_age(party):\n",
    "    df = candidates.copy()\n",
    "    if party != 'Všechny':\n",
    "        df = df[df[\"Název\"] == party]\n",
    "    df = df.groupby(\"Rok\")[\"Věk\"].mean().to_frame()\n",
    "    df.columns = [\"Průměrný věk\"]\n",
    "    ax = df.plot.bar(color=\"red\", legend=False, ylim=[30, 70], figsize=(8, 4))\n",
    "    ax.set_ylabel(\"Průměrný věk\")\n",
    "    \n",
    "interactive(plot_avg_age, party=dd2)"
   ]
  },
  {
   "cell_type": "markdown",
   "metadata": {},
   "source": [
    "### Volební účast napříč lety"
   ]
  },
  {
   "cell_type": "code",
   "execution_count": null,
   "metadata": {},
   "outputs": [],
   "source": [
    "voter_turnout = elections[[\"Rok\", \"Volební účast v %\"]]\n",
    "ax = voter_turnout.plot.line(x=\"Rok\", y=\"Volební účast v %\", marker=\"o\", color=\"orange\",\n",
    "                             xlim=[2000, 2020], xticks=[2002, 2006, 2010, 2014, 2018],\n",
    "                             ylim=[30, 45], legend=False, figsize=(8, 4))\n",
    "_ = ax.set_ylabel(\"Volební účast v %\")"
   ]
  },
  {
   "cell_type": "markdown",
   "metadata": {},
   "source": [
    "### Výsledky voleb (celkový přehled)"
   ]
  },
  {
   "cell_type": "code",
   "execution_count": null,
   "metadata": {},
   "outputs": [],
   "source": [
    "mpl.pyplot.figure(figsize=(17, 4))\n",
    "sns.heatmap(parties.pivot(\"Rok\", \"Název\", \"Hlasy v %\"),\n",
    "            cmap=\"Oranges\", cbar_kws={'label': 'Hlasy v %'})"
   ]
  },
  {
   "cell_type": "markdown",
   "metadata": {},
   "source": [
    "### Výsledky voleb (procento hlasů) v konkrétních letech"
   ]
  },
  {
   "cell_type": "code",
   "execution_count": null,
   "metadata": {},
   "outputs": [],
   "source": [
    "dd3 = widgets.Dropdown(\n",
    "    options=[2002, 2006, 2010, 2014, 2018],\n",
    "    value=2018,\n",
    "    description='Rok: ')\n",
    "\n",
    "def plot_results(year):\n",
    "    df = parties.copy()\n",
    "    df = df[df[\"Rok\"] == year][[\"Název\", \"Hlasy v %\"]]\n",
    "    df.plot.pie(y=\"Hlasy v %\", labels=df[\"Název\"].tolist(), legend=None,\n",
    "                figsize=(10, 10), autopct=\"%1.2f%%\", label=\"\")\n",
    "    \n",
    "interactive(plot_results, year=dd3)"
   ]
  },
  {
   "cell_type": "markdown",
   "metadata": {},
   "source": [
    "### Procento kandidátů s titulem"
   ]
  },
  {
   "cell_type": "code",
   "execution_count": null,
   "metadata": {},
   "outputs": [],
   "source": [
    "voter_degree_ratio = pd.DataFrame(columns=[\"Rok\", \"Podíl kandidujících s titulem a bez titulu\"])\n",
    "for year in range(2002, 2022, 4):\n",
    "    df = candidates.copy()\n",
    "    df = df[df[\"Rok\"] == year]\n",
    "    degree = df[df[\"Tituly\"] != \"\"].shape[0]\n",
    "    voter_degree_ratio = voter_degree_ratio.append({\"Rok\" : year,\n",
    "                                                    \"Podíl kandidujících s titulem a bez titulu\"\n",
    "                                                    : 100*degree/df.shape[0]},\n",
    "                                                    ignore_index=True)\n",
    "voter_degree_ratio = voter_degree_ratio.astype({\"Rok\" : int, \"Podíl kandidujících s titulem a bez titulu\" : float})\n",
    "\n",
    "ax = voter_degree_ratio.plot.line(x=\"Rok\", y=\"Podíl kandidujících s titulem a bez titulu\", marker=\"o\",\n",
    "                                  color=\"purple\", xlim=[2000, 2020], xticks=[2002, 2006, 2010, 2014, 2018],\n",
    "                                  figsize=(8, 4), ylim=[34, 50], legend=False)\n",
    "_ = ax.set_ylabel(\"Procento kandidátů s titulem\")"
   ]
  },
  {
   "cell_type": "markdown",
   "metadata": {},
   "source": [
    "### Věková struktura ve všech/jednotlivých stranách v konkrétních letech"
   ]
  },
  {
   "cell_type": "code",
   "execution_count": null,
   "metadata": {},
   "outputs": [],
   "source": [
    "dd4 = widgets.Dropdown(\n",
    "    options=[2002, 2006, 2010, 2014, 2018],\n",
    "    value=2018,\n",
    "    description='Rok: ')\n",
    "\n",
    "dd5 = widgets.Dropdown(\n",
    "    options=['Všechny'] + list(parties[parties[\"Rok\"] == dd4.value][\"Název\"].unique()),\n",
    "    value='Všechny',\n",
    "    continuous_update=True,\n",
    "    description='Strana: ')\n",
    "\n",
    "def dd4_on_change(change):\n",
    "    if change['type'] == 'change' and change['name'] == 'value':\n",
    "        dd5.options = ['Všechny'] + list(parties[parties[\"Rok\"] == dd4.value][\"Název\"].unique())\n",
    "    \n",
    "dd4.observe(dd4_on_change)\n",
    "\n",
    "def plot_age_structure(year, party):\n",
    "    age_structure = pd.DataFrame(columns=[\"Věková kategorie\", \"Počet\"])\n",
    "    age_categories = {\"<20\" : (0, 20),\n",
    "                      \"20-30\": (20, 30),\n",
    "                      \"30-40\" : (30, 40),\n",
    "                      \"40-50\" : (40, 50),\n",
    "                      \"50-60\" : (50, 60),\n",
    "                      \"60-70\"  : (60, 70),\n",
    "                      \"70-80\" : (70, 80),\n",
    "                      \">80\" : (80, np.inf)}\n",
    "    df = candidates.copy()\n",
    "    df = df[df[\"Rok\"] == year]\n",
    "    if party != 'Všechny':\n",
    "        df = df[df[\"Název\"] == party]\n",
    "        \n",
    "    for k, v in age_categories.items():\n",
    "        lo, hi = v\n",
    "        df_cat = df.copy()\n",
    "        df_cat = df_cat[df_cat[\"Věk\"] > lo]\n",
    "        df_cat = df_cat[df_cat[\"Věk\"] < hi]\n",
    "        age_structure = age_structure.append({\"Věková kategorie\" : k,\n",
    "                                              \"Počet\" : df_cat.shape[0]},\n",
    "                                              ignore_index=True)\n",
    "    \n",
    "    ax = age_structure.plot.bar(x=\"Věková kategorie\", legend=False, y=\"Počet\", color=\"y\", figsize=(8, 4))\n",
    "    ax.set_ylabel(\"Počet\")\n",
    "\n",
    "interactive(plot_age_structure, year=dd4, party=dd5)"
   ]
  },
  {
   "cell_type": "markdown",
   "metadata": {},
   "source": [
    "### Odhad procenta kandidujících žen napříč lety"
   ]
  },
  {
   "cell_type": "code",
   "execution_count": null,
   "metadata": {},
   "outputs": [],
   "source": [
    "women_ratio = pd.DataFrame(columns=[\"Rok\", \"Podíl kandidujících žen a mužů\"])\n",
    "for year in range(2002, 2022, 4):\n",
    "    df = candidates.copy()\n",
    "    df = df[df[\"Rok\"] == year]\n",
    "    women = df[df[\"Příjmení, jméno\"].str.match(\".*(ová|ná|ská|ická|ká)\\s.*\")].shape[0]\n",
    "    women_ratio = women_ratio.append({\"Rok\" : year,\n",
    "                                      \"Podíl kandidujících žen a mužů\" : 100*women/df.shape[0]},\n",
    "                                      ignore_index=True)\n",
    "women_ratio = women_ratio.astype({\"Rok\" : int, \"Podíl kandidujících žen a mužů\" : float})\n",
    "\n",
    "ax = women_ratio.plot.line(x=\"Rok\", y=\"Podíl kandidujících žen a mužů\", marker=\"o\", color=\"deeppink\",\n",
    "                           xlim=[2000, 2020], xticks=[2002, 2006, 2010, 2014, 2018], figsize=(8, 4),\n",
    "                           ylim=[28, 40], legend=False)\n",
    "_ = ax.set_ylabel(\"Procento kandidujících žen\")"
   ]
  },
  {
   "cell_type": "markdown",
   "metadata": {},
   "source": [
    "### Struktura titulů ve všech/jednotlivých stranách v konkrétních letech"
   ]
  },
  {
   "cell_type": "code",
   "execution_count": null,
   "metadata": {},
   "outputs": [],
   "source": [
    "dd6 = widgets.Dropdown(\n",
    "    options=[2002, 2006, 2010, 2014, 2018],\n",
    "    value=2018,\n",
    "    description='Rok: ')\n",
    "\n",
    "dd7 = widgets.Dropdown(\n",
    "    options=['Všechny'] + list(parties[parties[\"Rok\"] == dd6.value][\"Název\"].unique()),\n",
    "    value='Všechny',\n",
    "    continuous_update=True,\n",
    "    description='Strana: ')\n",
    "\n",
    "def dd6_on_change(change):\n",
    "    if change['type'] == 'change' and change['name'] == 'value':\n",
    "        dd7.options = ['Všechny'] + list(parties[parties[\"Rok\"] == dd6.value][\"Název\"].unique())\n",
    "    \n",
    "dd6.observe(dd6_on_change)\n",
    "\n",
    "def plot_degree_structure(year, party):\n",
    "    degree_structure = pd.DataFrame(columns=[\"Titul\", \"Počet\"])\n",
    "    degree_categories = {\"vyšší\" : \".*(prof|doc).*\",\n",
    "                         \"doktorský\": \".*(Ph\\.D\\.|DSc|CSc|Dr\\.|DrSc|Th\\.D*)\",\n",
    "                         \"magisterský\" : \".*(Ing|Ing\\. arch|MUDr|MDDr|MVDr|MgA|Mgr|JUDr|PhDr|RNDr|PharmDr|ThLic|ThDr|akad\\. arch|ak\\.mal.|ak\\. soch|MSDr|PaedDr|PhMr|RCDr|RSDr|RTDr|ThMgr.*)\",\n",
    "                         \"bakalářský\" : \".*(Bc|BcA).*\",\n",
    "                         \"neakademický\" : \".*(DiS).*\"}\n",
    "    df = candidates.copy()\n",
    "    df = df[df[\"Rok\"] == year]\n",
    "    if party != 'Všechny':\n",
    "        df = df[df[\"Název\"] == party]\n",
    "        \n",
    "    for category, regex in degree_categories.items():\n",
    "        df_cat = df.copy()\n",
    "        df_cat = df_cat[df_cat[\"Tituly\"].str.match(regex)]\n",
    "        df = df[df[\"Tituly\"].str.match(regex) == False]\n",
    "        degree_structure = degree_structure.append({\"Titul\" : category,\n",
    "                                                    \"Počet\" : df_cat.shape[0]},\n",
    "                                                    ignore_index=True)\n",
    "        \n",
    "    degree_structure = degree_structure.append({\"Titul\" : \"bez titulu\",\n",
    "                                                \"Počet\" : df.shape[0]},\n",
    "                                                ignore_index=True)\n",
    "    \n",
    "    ax = degree_structure.plot.bar(x=\"Titul\", y=\"Počet\", legend=False, color=\"dodgerblue\", figsize=(8, 4))\n",
    "    ax.set_ylabel(\"Počet\")\n",
    "    \n",
    "\n",
    "interactive(plot_degree_structure, year=dd6, party=dd7)"
   ]
  }
 ],
 "metadata": {
  "kernelspec": {
   "display_name": "Python 3",
   "language": "python",
   "name": "python3"
  },
  "language_info": {
   "codemirror_mode": {
    "name": "ipython",
    "version": 3
   },
   "file_extension": ".py",
   "mimetype": "text/x-python",
   "name": "python",
   "nbconvert_exporter": "python",
   "pygments_lexer": "ipython3",
   "version": "3.7.3"
  }
 },
 "nbformat": 4,
 "nbformat_minor": 4
}
