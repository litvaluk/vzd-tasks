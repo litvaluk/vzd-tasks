{
 "cells": [
  {
   "cell_type": "markdown",
   "metadata": {},
   "source": [
    "# Úkol č. 2 - předzpracování dat a binární klasifikace (do 10. listopadu)\n",
    "\n",
    "  * Cílem thoto úkolu je vyzkoušet si naučit prediktivní model pro binární klasifikaci.\n",
    "  * Budete se muset vypořádat s příznaky, které jsou různých typů a které bude třeba nějakým způsobem převést do číselné reprezentace.\n",
    "    \n",
    "> **Úkoly jsou zadány tak, aby Vám daly prostor pro invenci. Vymyslet _jak přesně_ budete úkol řešit, je důležitou součástí zadání a originalita či nápaditost bude také hodnocena!**\n",
    "\n",
    "## Zdroj dat\n",
    "\n",
    "Budeme se zabývat predikcí přežití pasažérů Titaniku.\n",
    "K dispozici máte trénovací data v souboru **data.csv** a data na vyhodnocení v souboru **evaluation.csv**.\n",
    "\n",
    "#### Seznam příznaků:\n",
    "* survived - zda přežil, 0 = Ne, 1 = Ano, **vysvětlovaná proměnná**, kterou chcete predikovat\n",
    "* pclass - Třída lodního lístku, 1 = první, 2 = druhá, 3 = třetí\n",
    "* name - jméno\n",
    "* sex - pohlaví\n",
    "* age - věk v letech\n",
    "* sibsp\t- počet sourozenců / manželů, manželek na palubě\n",
    "* parch - počet rodičů / dětí na palubě\n",
    "* ticket - číslo lodního lístku\n",
    "* fare - cena lodního lístku\n",
    "* cabin\t- číslo kajuty\n",
    "* embarked\t- místo nalodění, C = Cherbourg, Q = Queenstown, S = Southampton\n",
    "* home.dest - Bydliště/Cíl\n",
    "\n",
    "## Pokyny k vypracování\n",
    "\n",
    "**Základní body zadání**, za jejichž (poctivé) vypracování získáte **8 bodů**:\n",
    "  * V Jupyter notebooku načtěte data ze souboru **data.csv**. Vhodným způsobem si je rozdělte na trénovací, testovací a případně i validační množinu (preferujeme ale použití cross-validation).\n",
    "  * Projděte si jednotlivé příznaky a transformujte je do vhodné podoby pro použití ve vybraném klasifikačním modelu.\n",
    "  * Podle potřeby si můžete vytvářet nové příznaky (na základě existujících), například tedy můžete vytvořit příznak měřící délku jména. Některé příznaky můžete také úplně zahodit.\n",
    "  * Nějakým způsobem se vypořádejte s chybějícími hodnotami.\n",
    "  * Následně si vyberte vhodný klasifikační model z přednášek. Najděte vhodné hyperparametry a určete jeho přesnost (accuracy) na trénovací množině. Také určete jeho přesnost na testovací/vaidační množině.\n",
    "  * Načtěte vyhodnocovací data ze souboru **evaluation.csv**. Napočítejte predikce pro tyto data (vysvětlovaná proměnná v nich již není). Vytvořte **results.csv** soubor, ve kterém tyto predikce uložíte do dvou sloupců: ID, predikce přežití. Tento soubor nahrajte do repozitáře.\n",
    "\n",
    "**Další body zadání** za případné další body  (můžete si vybrat, maximum bodů za úkol je každopádně 12 bodů):\n",
    "  * (až +4 body) Aplikujte všechny klasifikační modely z přednášek a určete (na základě přesnosti na validační množině), který je nejlepší. Přesnost tohoto nejlepšího modelu odhadněte pomocí testovací množiny. K predikcím na vyhodnocovacích datech využijte tento model.\n",
    "  * (až +4 body) Zkuste použít nějaké (alespoň dvě) netriviální metody doplňování chybějících hodnot u věku. Zaměřte na vliv těchto metod na přesnost predikce výsledného modelu. K predikcím na vyhodnocovacích datech využijte ten přístup, který Vám vyjde jako nejlepší.\n",
    "\n",
    "## Poznámky k odevzdání\n",
    "\n",
    "  * Řiďte se pokyny ze stránky https://courses.fit.cvut.cz/BI-VZD/homeworks/index.html.\n",
    "  * Odevzdejte nejen Jupyter Notebook, ale i _csv_ soubor(y) s predikcemi pro vyhodnocovací data.\n",
    "  * Opravující Vám může umožnit úkol dodělat či opravit a získat tak další body. **První verze je ale důležitá a bude-li odbytá, budete za to penalizováni**"
   ]
  },
  {
   "cell_type": "markdown",
   "metadata": {},
   "source": [
    "# Řešení"
   ]
  },
  {
   "cell_type": "code",
   "execution_count": null,
   "metadata": {},
   "outputs": [],
   "source": [
    "import math\n",
    "import pandas as pd\n",
    "import numpy as np\n",
    "\n",
    "from sklearn.linear_model import LinearRegression\n",
    "from sklearn.neighbors import KNeighborsRegressor\n",
    "from sklearn.tree import DecisionTreeClassifier\n",
    "from sklearn.ensemble import RandomForestClassifier\n",
    "from sklearn.ensemble import AdaBoostClassifier\n",
    "from sklearn.model_selection import train_test_split\n",
    "from sklearn.model_selection import ParameterGrid\n",
    "import sklearn.metrics as metrics\n",
    "\n",
    "import matplotlib\n",
    "import matplotlib.pyplot as plt\n",
    "%matplotlib inline"
   ]
  },
  {
   "cell_type": "markdown",
   "metadata": {},
   "source": [
    "## Načtení dat"
   ]
  },
  {
   "cell_type": "code",
   "execution_count": null,
   "metadata": {},
   "outputs": [],
   "source": [
    "data = pd.read_csv('data.csv')\n",
    "\n",
    "# display(data.shape)\n",
    "# display(data.head())\n",
    "# display(data.info())\n",
    "# display(data.describe())\n",
    "# display(data.nunique())"
   ]
  },
  {
   "cell_type": "markdown",
   "metadata": {},
   "source": [
    "## Úprava dat"
   ]
  },
  {
   "cell_type": "markdown",
   "metadata": {},
   "source": [
    "### Dropnutí nevýznamných sloupců"
   ]
  },
  {
   "cell_type": "code",
   "execution_count": null,
   "metadata": {},
   "outputs": [],
   "source": [
    "def drop_useless_data(df):\n",
    "    return df.drop([\"ID\", \"ticket\", \"home.dest\"], axis=1)\n",
    "\n",
    "data = drop_useless_data(data)"
   ]
  },
  {
   "cell_type": "markdown",
   "metadata": {},
   "source": [
    "### Name -> Title"
   ]
  },
  {
   "cell_type": "code",
   "execution_count": null,
   "metadata": {},
   "outputs": [],
   "source": [
    "def create_title_drop_name(df):\n",
    "    title = [i.split(\",\")[1].split(\".\")[0].strip() for i in df[\"name\"]]\n",
    "    df[\"title\"] = title\n",
    "    return df.drop(\"name\", axis=1)\n",
    "\n",
    "data = create_title_drop_name(data)"
   ]
  },
  {
   "cell_type": "markdown",
   "metadata": {},
   "source": [
    "### Fare"
   ]
  },
  {
   "cell_type": "code",
   "execution_count": null,
   "metadata": {},
   "outputs": [],
   "source": [
    "def fill_fare(df):\n",
    "    df[\"fare\"] = df[\"fare\"].fillna(df[\"fare\"].median())\n",
    "    return df\n",
    "\n",
    "data = fill_fare(data)"
   ]
  },
  {
   "cell_type": "markdown",
   "metadata": {},
   "source": [
    "### Cabin"
   ]
  },
  {
   "cell_type": "code",
   "execution_count": null,
   "metadata": {},
   "outputs": [],
   "source": [
    "def adjust_cabin(df):\n",
    "    df[\"cabin\"] = df[\"cabin\"].apply(lambda x: \"X\" if pd.isna(x) else x[:1])\n",
    "    return df\n",
    "\n",
    "data = adjust_cabin(data)"
   ]
  },
  {
   "cell_type": "markdown",
   "metadata": {},
   "source": [
    "### Embarked"
   ]
  },
  {
   "cell_type": "code",
   "execution_count": null,
   "metadata": {},
   "outputs": [],
   "source": [
    "def fill_embarked(df):\n",
    "    df[\"embarked\"] = df[\"embarked\"].fillna(\"S\")\n",
    "    return df\n",
    "\n",
    "data = fill_embarked(data)"
   ]
  },
  {
   "cell_type": "markdown",
   "metadata": {},
   "source": [
    "### Převedení stringů na kategorie (category codes)"
   ]
  },
  {
   "cell_type": "code",
   "execution_count": null,
   "metadata": {},
   "outputs": [],
   "source": [
    "def str_to_cat_codes(df):\n",
    "    cat_columns = df.select_dtypes(['object']).columns\n",
    "    df[cat_columns] = df[cat_columns].astype(\"category\").apply(lambda x: x.cat.codes)\n",
    "    return df\n",
    "\n",
    "data = str_to_cat_codes(data)"
   ]
  },
  {
   "cell_type": "markdown",
   "metadata": {},
   "source": [
    "### Age\n",
    "#### Lineární regrese"
   ]
  },
  {
   "cell_type": "code",
   "execution_count": null,
   "metadata": {},
   "outputs": [],
   "source": [
    "def fill_age_lr(df):    \n",
    "    age_data = df.copy()\n",
    "    age_data = age_data[age_data[\"age\"].isna() == False]\n",
    "    age_x_data = age_data.drop(\"age\", axis=1)\n",
    "    age_y_data = age_data[\"age\"]\n",
    "    missing_rows = df.copy()\n",
    "    missing_rows = missing_rows[missing_rows[\"age\"].isna()].drop(\"age\", axis=1)\n",
    "\n",
    "    lr = LinearRegression()\n",
    "    lr.fit(age_x_data,age_y_data)\n",
    "    \n",
    "    missing_rows[\"age\"] = lr.predict(missing_rows).round()\n",
    "    return df[df[\"age\"].isna() == False].append(missing_rows, sort=False)\n",
    "\n",
    "data = fill_age_lr(data)"
   ]
  },
  {
   "cell_type": "markdown",
   "metadata": {},
   "source": [
    "#### kNN"
   ]
  },
  {
   "cell_type": "code",
   "execution_count": null,
   "metadata": {},
   "outputs": [],
   "source": [
    "def fill_age_knn(df):\n",
    "    age_data = df.copy()\n",
    "    age_data = age_data[age_data[\"age\"].isna() == False]\n",
    "    age_x_data = age_data.drop(\"age\", axis=1)\n",
    "    age_y_data = age_data[\"age\"]\n",
    "    missing_rows = df.copy()\n",
    "    missing_rows = missing_rows[missing_rows[\"age\"].isna()].drop(\"age\", axis=1)\n",
    "\n",
    "    knn = KNeighborsRegressor(n_neighbors=1, p=1, weights=\"uniform\")\n",
    "    knn.fit(age_x_data, age_y_data)\n",
    "    \n",
    "    missing_rows[\"age\"] = knn.predict(missing_rows).round()\n",
    "    return df[df[\"age\"].isna() == False].append(missing_rows, sort=False)\n",
    "\n",
    "# data = fill_age_knn(data)"
   ]
  },
  {
   "cell_type": "markdown",
   "metadata": {},
   "source": [
    "## Modely predikce\n",
    "### Rozdělení dat"
   ]
  },
  {
   "cell_type": "code",
   "execution_count": null,
   "metadata": {},
   "outputs": [],
   "source": [
    "# separate data\n",
    "Xdata = data.copy()\n",
    "Xdata = Xdata.drop(\"survived\", axis=1)\n",
    "ydata = data.iloc[:,0]\n",
    "\n",
    "# split data to train/validation/test\n",
    "rd_seed = 1024\n",
    "Xtrain, Xtest, ytrain, ytest = train_test_split(Xdata, ydata, test_size=0.25, random_state=rd_seed)\n",
    "Xtrain, Xval, ytrain, yval = train_test_split(Xtrain, ytrain, test_size=0.25, random_state=rd_seed)"
   ]
  },
  {
   "cell_type": "markdown",
   "metadata": {},
   "source": [
    "### Decision Tree Classifier"
   ]
  },
  {
   "cell_type": "code",
   "execution_count": null,
   "metadata": {},
   "outputs": [],
   "source": [
    "def decision_tree_classifier(x_train, x_val, x_test, y_train, y_val, y_test):\n",
    "    param_comb = ParameterGrid({\n",
    "        'max_depth': range(1,30), \n",
    "        'criterion': ['entropy', 'gini']\n",
    "    })\n",
    "\n",
    "    val_acc = []\n",
    "    train_acc = []\n",
    "    for params in param_comb:\n",
    "        dt = DecisionTreeClassifier(max_depth=params['max_depth'], criterion=params['criterion'])\n",
    "        dt.fit(x_train, y_train)\n",
    "        train_acc.append(metrics.accuracy_score(y_train, dt.predict(x_train)))\n",
    "        val_acc.append(metrics.accuracy_score(y_val, dt.predict(x_val)))\n",
    "    \n",
    "    best_params = param_comb[np.argmax(val_acc)]\n",
    "    dt = DecisionTreeClassifier(**best_params)\n",
    "    dt.fit(x_train, y_train)\n",
    "    score = metrics.accuracy_score(y_test, dt.predict(x_test))\n",
    "    return (\"Decision Tree Classifier\", score, best_params)\n",
    "\n",
    "dtc = decision_tree_classifier(Xtrain, Xval, Xtest, ytrain, yval, ytest)\n",
    "dtc"
   ]
  },
  {
   "cell_type": "markdown",
   "metadata": {},
   "source": [
    "### Random Forest Classifier"
   ]
  },
  {
   "cell_type": "code",
   "execution_count": null,
   "metadata": {},
   "outputs": [],
   "source": [
    "def random_forest_classifier(x_train, x_val, x_test, y_train, y_val, y_test):\n",
    "    param_comb = ParameterGrid({\n",
    "        'max_depth': range(1,10), \n",
    "        'criterion': ['entropy', 'gini'],\n",
    "        'n_estimators': range(1,50,5)\n",
    "    })\n",
    "\n",
    "    val_acc = []\n",
    "    train_acc = []\n",
    "    for params in param_comb:\n",
    "        rf = RandomForestClassifier(max_depth=params['max_depth'],\n",
    "                                    criterion=params['criterion'],\n",
    "                                    n_estimators=params['n_estimators'])\n",
    "        rf.fit(x_train, y_train)\n",
    "        train_acc.append(metrics.accuracy_score(y_train, rf.predict(x_train)))\n",
    "        val_acc.append(metrics.accuracy_score(y_val, rf.predict(x_val)))\n",
    "    \n",
    "    best_params = param_comb[np.argmax(val_acc)]\n",
    "    rf = RandomForestClassifier(**best_params)\n",
    "    rf.fit(x_train, y_train)\n",
    "    score = metrics.accuracy_score(y_test, rf.predict(x_test))\n",
    "    return (\"Random Forest Classifier\", score, best_params)\n",
    "\n",
    "rfc = random_forest_classifier(Xtrain, Xval, Xtest, ytrain, yval, ytest)\n",
    "rfc"
   ]
  },
  {
   "cell_type": "markdown",
   "metadata": {},
   "source": [
    "### AdaBoost"
   ]
  },
  {
   "cell_type": "code",
   "execution_count": null,
   "metadata": {},
   "outputs": [],
   "source": [
    "def ada_boost_classifier(x_train, x_val, x_test, y_train, y_val, y_test):\n",
    "    param_comb = ParameterGrid({\n",
    "        'learning_rate': [0.01, 0.05, 0.1, 0.3, 0.5, 1],\n",
    "        'n_estimators': range(1,50,5)\n",
    "    })\n",
    "\n",
    "    val_acc = []\n",
    "    train_acc = []\n",
    "    for params in param_comb:\n",
    "        ab = AdaBoostClassifier(learning_rate=params['learning_rate'], n_estimators=params['n_estimators'])\n",
    "        ab.fit(x_train, y_train)\n",
    "        train_acc.append(metrics.accuracy_score(y_train, ab.predict(x_train)))\n",
    "        val_acc.append(metrics.accuracy_score(y_val, ab.predict(x_val)))\n",
    "    \n",
    "    best_params = param_comb[np.argmax(val_acc)]\n",
    "    ab = AdaBoostClassifier(**best_params)\n",
    "    ab.fit(x_train, y_train)\n",
    "    score = metrics.accuracy_score(y_test, ab.predict(x_test))\n",
    "    return (\"AdaBoost Classifier\", score, best_params)\n",
    "\n",
    "abc = ada_boost_classifier(Xtrain, Xval, Xtest, ytrain, yval, ytest)\n",
    "abc"
   ]
  },
  {
   "cell_type": "markdown",
   "metadata": {},
   "source": [
    "### Výběr nejlepšího predikčního modelu"
   ]
  },
  {
   "cell_type": "code",
   "execution_count": null,
   "metadata": {},
   "outputs": [],
   "source": [
    "models = [dtc, rfc, abc]\n",
    "\n",
    "def best_model(models):\n",
    "    best = None\n",
    "    for model in models:\n",
    "        if best is None:\n",
    "            best = model\n",
    "            continue\n",
    "            \n",
    "        name, score, params = model\n",
    "        name_best, score_best, score_params = best\n",
    "        \n",
    "        if score > score_best:\n",
    "            best = model\n",
    "    return best\n",
    "\n",
    "best_model(models)"
   ]
  },
  {
   "cell_type": "markdown",
   "metadata": {},
   "source": [
    "## Predikce vyhodnocovacích dat"
   ]
  },
  {
   "cell_type": "code",
   "execution_count": null,
   "metadata": {},
   "outputs": [],
   "source": [
    "eval_data = pd.read_csv(\"evaluation.csv\")\n",
    "eval_data = drop_useless_data(eval_data)\n",
    "eval_data = create_title_drop_name(eval_data)\n",
    "eval_data = fill_fare(eval_data)\n",
    "eval_data = adjust_cabin(eval_data)\n",
    "eval_data = str_to_cat_codes(eval_data)\n",
    "eval_data = fill_age_lr(eval_data)"
   ]
  },
  {
   "cell_type": "code",
   "execution_count": null,
   "metadata": {},
   "outputs": [],
   "source": [
    "dt = RandomForestClassifier(n_estimators=31, max_depth=6, criterion=\"entropy\")\n",
    "dt.fit(Xtrain, ytrain)\n",
    "results = pd.DataFrame()\n",
    "results[\"ID\"] = range(0, eval_data.shape[0])\n",
    "results[\"predikce přežití\"] = dt.predict(eval_data)\n",
    "results\n",
    "# results[results[\"predikce přežití\"] == 1].count()"
   ]
  }
 ],
 "metadata": {
  "kernelspec": {
   "display_name": "Python 3",
   "language": "python",
   "name": "python3"
  },
  "language_info": {
   "codemirror_mode": {
    "name": "ipython",
    "version": 3
   },
   "file_extension": ".py",
   "mimetype": "text/x-python",
   "name": "python",
   "nbconvert_exporter": "python",
   "pygments_lexer": "ipython3",
   "version": "3.7.3"
  }
 },
 "nbformat": 4,
 "nbformat_minor": 4
}
