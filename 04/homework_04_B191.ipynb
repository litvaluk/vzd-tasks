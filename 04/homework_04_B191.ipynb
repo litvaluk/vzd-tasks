{
 "cells": [
  {
   "cell_type": "markdown",
   "metadata": {},
   "source": [
    "# Úkol č. 4 - regrese (do 2. ledna)\n",
    "\n",
    "  * Cílem tohoto úkolu je vyzkoušet si řešit regresní problém na reálných (ale celkem vyčištěných) datech.\n",
    "  \n",
    "> **Nejdůležitější na úkolu je to, abyste udělali vše procesně správně: korektní rozdělení datasetu, ladění hyperparametrů, vyhodnocení výsledků atp.**\n",
    "\n",
    "## Dataset\n",
    "\n",
    "  * Zdrojem dat je list *Data* v souboru `Residential-Building-Data-Set.xlsx` na course pages (originál zde: https://archive.ics.uci.edu/ml/datasets/Residential+Building+Data+Set#).\n",
    "  * Popis datasetu najdete na listu *Descriptions* ve stejném souboru.\n",
    "  \n",
    "\n",
    "## Pokyny k vypracování\n",
    "\n",
    "  1. Rozdělte data na trénovací a testovací množinu.\n",
    "  1. Proveďte základní průzkum dat a příp. vyhoďte nezajímavé příznaky.\n",
    "  1. Aplikujte lineární a hřebenovou regresi a výsledky řádně vyhodnoťte:\n",
    "    * K měření chyby použijte `mean_absolute_error`.\n",
    "    * Experimentujte s tvorbou nových příznaků (na základě těch dostupných).\n",
    "    * Experimentujte se standardizací/normalizací dat.\n",
    "    * Vyberte si hyperparametry modelů k ladění a najděte jejich nejlepší hodnoty.\n",
    "  1. Použijte i jiný model než jen lineární a hřebenovou regresi.\n",
    "\n",
    "\n",
    "## Poznámky k odevzdání\n",
    "\n",
    "  * Řiďte se pokyny ze stránky https://courses.fit.cvut.cz/BI-VZD/homeworks/index.html.\n",
    "  * Odevzdejte pouze tento Jupyter Notebook, opravujíví by neměl nic jiného potřebovat.\n",
    "  * Opravující Vám může umožnit úkol dodělat či opravit a získat tak další body. První verze je ale důležitá a bude-li odbytá, budete za to penalizováni."
   ]
  },
  {
   "cell_type": "markdown",
   "metadata": {},
   "source": [
    "# Řešení"
   ]
  },
  {
   "cell_type": "markdown",
   "metadata": {},
   "source": [
    "## Popis sloupců\n",
    "\n",
    "* V-1  -    Project locality defined in terms of zip codes (N/A)\n",
    "* V-2  -\tTotal floor area of the building (m2)\n",
    "* V-3  -\tLot area (m2) \n",
    "* V-4  -\tTotal preliminary estimated construction cost based on the prices at the beginning of the project\t(10000000 IRR) \n",
    "* V-5  -\tPreliminary estimated construction cost based on the prices at the beginning of the project\t(10000 IRR) \n",
    "* V-6  -\tEquivalent preliminary estimated construction cost based on the prices at the beginning of the project in a selected base year a (10000 IRR) \n",
    "* V-7  -\tDuration of construction (As a number of time resolution)\n",
    "* V-8  -\tPrice of the unit at the beginning of the project per m2 (10000 IRR)\n",
    "* V-9  -\tActual sales prices (10000 IRR)\n",
    "* V-10 - Actual construction costs (10000 IRR)\n",
    "* V-11 -\tThe number of building permits issued (N/A)\n",
    "* V-12 -\tBuilding services index (BSI) b for a preselected base year (N/A)\n",
    "* V-13 -\tWholesale price index (WPI) c of building materials for the base year (N/A)\n",
    "* V-14 -\tTotal floor areas of building permits issued by the city/municipality (m2)\n",
    "* V-15 -\tCumulative liquidity (10000000 IRR)\n",
    "* V-16 -\tPrivate sector investment in new buildings (10000000 IRR)\n",
    "* V-17 -\tLand price index for the base year (10000000 IRR)\n",
    "* V-18 -\tThe number of loans extended by banks in a time resolution (N/A)\n",
    "* V-19 -\tThe amount of loans extended by banks in a time resolution (10000000 IRR)\n",
    "* V-20 -\tThe interest rate for loan in a time resolution (%)\n",
    "* V-21 -\tThe average construction cost of buildings by private sector at the time of completion of construction \t(10000 IRR/m2)\n",
    "* V-22 -\tThe average of construction cost of buildings by private sector at the beginning of the construction \t(10000 IRR/m2)\n",
    "* V-23 -\tOfficial exchange rate with respect to dollars \t(IRR)\n",
    "* V-24 -\tNonofficial (street market) exchange rate with respect to dollars (IRR)\n",
    "* V-25 -\tConsumer price index (CPI) i in the base year (N/A)\n",
    "* V-26 -\tCPI of housing, water, fuel & power in the base year (N/A)\n",
    "* V-27 -\tStock market index (N/A)\n",
    "* V-28 -\tPopulation of the city (N/A)\n",
    "* V-29 -\tGold price per ounce (IRR)"
   ]
  },
  {
   "cell_type": "markdown",
   "metadata": {},
   "source": [
    "## Nahrání datasetu"
   ]
  },
  {
   "cell_type": "code",
   "execution_count": 1,
   "metadata": {},
   "outputs": [],
   "source": [
    "import pandas as pd\n",
    "import numpy as np"
   ]
  },
  {
   "cell_type": "code",
   "execution_count": 2,
   "metadata": {},
   "outputs": [],
   "source": [
    "url = 'https://archive.ics.uci.edu/ml/machine-learning-databases/00437/Residential-Building-Data-Set.xlsx'\n",
    "file = 'Residential-Building-Data-Set.xlsx'\n",
    "data = pd.read_excel(io=url, sheet_name='Data', header=1)"
   ]
  },
  {
   "cell_type": "code",
   "execution_count": 3,
   "metadata": {},
   "outputs": [
    {
     "data": {
      "text/html": [
       "<div>\n",
       "<style scoped>\n",
       "    .dataframe tbody tr th:only-of-type {\n",
       "        vertical-align: middle;\n",
       "    }\n",
       "\n",
       "    .dataframe tbody tr th {\n",
       "        vertical-align: top;\n",
       "    }\n",
       "\n",
       "    .dataframe thead th {\n",
       "        text-align: right;\n",
       "    }\n",
       "</style>\n",
       "<table border=\"1\" class=\"dataframe\">\n",
       "  <thead>\n",
       "    <tr style=\"text-align: right;\">\n",
       "      <th></th>\n",
       "      <th>START YEAR</th>\n",
       "      <th>START QUARTER</th>\n",
       "      <th>COMPLETION YEAR</th>\n",
       "      <th>COMPLETION QUARTER</th>\n",
       "      <th>V-1</th>\n",
       "      <th>V-2</th>\n",
       "      <th>V-3</th>\n",
       "      <th>V-4</th>\n",
       "      <th>V-5</th>\n",
       "      <th>V-6</th>\n",
       "      <th>...</th>\n",
       "      <th>V-22.4</th>\n",
       "      <th>V-23.4</th>\n",
       "      <th>V-24.4</th>\n",
       "      <th>V-25.4</th>\n",
       "      <th>V-26.4</th>\n",
       "      <th>V-27.4</th>\n",
       "      <th>V-28.4</th>\n",
       "      <th>V-29.4</th>\n",
       "      <th>V-9</th>\n",
       "      <th>V-10</th>\n",
       "    </tr>\n",
       "  </thead>\n",
       "  <tbody>\n",
       "    <tr>\n",
       "      <td>0</td>\n",
       "      <td>81</td>\n",
       "      <td>1</td>\n",
       "      <td>85</td>\n",
       "      <td>1</td>\n",
       "      <td>1</td>\n",
       "      <td>3150.0</td>\n",
       "      <td>920.0</td>\n",
       "      <td>598.5</td>\n",
       "      <td>190</td>\n",
       "      <td>1010.84</td>\n",
       "      <td>...</td>\n",
       "      <td>815.50</td>\n",
       "      <td>1755.00</td>\n",
       "      <td>8002.0</td>\n",
       "      <td>60.74</td>\n",
       "      <td>54.26</td>\n",
       "      <td>2978.26</td>\n",
       "      <td>41407.0</td>\n",
       "      <td>601988.1</td>\n",
       "      <td>2200</td>\n",
       "      <td>410</td>\n",
       "    </tr>\n",
       "    <tr>\n",
       "      <td>1</td>\n",
       "      <td>84</td>\n",
       "      <td>1</td>\n",
       "      <td>89</td>\n",
       "      <td>4</td>\n",
       "      <td>1</td>\n",
       "      <td>7600.0</td>\n",
       "      <td>1140.0</td>\n",
       "      <td>3040.0</td>\n",
       "      <td>400</td>\n",
       "      <td>963.81</td>\n",
       "      <td>...</td>\n",
       "      <td>1316.30</td>\n",
       "      <td>8364.78</td>\n",
       "      <td>8393.0</td>\n",
       "      <td>90.95</td>\n",
       "      <td>89.79</td>\n",
       "      <td>11379.37</td>\n",
       "      <td>44835.0</td>\n",
       "      <td>929027.1</td>\n",
       "      <td>5000</td>\n",
       "      <td>1000</td>\n",
       "    </tr>\n",
       "    <tr>\n",
       "      <td>2</td>\n",
       "      <td>78</td>\n",
       "      <td>1</td>\n",
       "      <td>81</td>\n",
       "      <td>4</td>\n",
       "      <td>1</td>\n",
       "      <td>4800.0</td>\n",
       "      <td>840.0</td>\n",
       "      <td>480.0</td>\n",
       "      <td>100</td>\n",
       "      <td>689.84</td>\n",
       "      <td>...</td>\n",
       "      <td>765.80</td>\n",
       "      <td>1755.00</td>\n",
       "      <td>4930.0</td>\n",
       "      <td>38.70</td>\n",
       "      <td>32.04</td>\n",
       "      <td>1653.06</td>\n",
       "      <td>37933.0</td>\n",
       "      <td>377828.6</td>\n",
       "      <td>1200</td>\n",
       "      <td>170</td>\n",
       "    </tr>\n",
       "    <tr>\n",
       "      <td>3</td>\n",
       "      <td>72</td>\n",
       "      <td>2</td>\n",
       "      <td>73</td>\n",
       "      <td>2</td>\n",
       "      <td>1</td>\n",
       "      <td>685.0</td>\n",
       "      <td>202.0</td>\n",
       "      <td>13.7</td>\n",
       "      <td>20</td>\n",
       "      <td>459.54</td>\n",
       "      <td>...</td>\n",
       "      <td>152.25</td>\n",
       "      <td>1442.31</td>\n",
       "      <td>1456.0</td>\n",
       "      <td>9.73</td>\n",
       "      <td>8.34</td>\n",
       "      <td>686.16</td>\n",
       "      <td>8194.0</td>\n",
       "      <td>122031.7</td>\n",
       "      <td>165</td>\n",
       "      <td>30</td>\n",
       "    </tr>\n",
       "    <tr>\n",
       "      <td>4</td>\n",
       "      <td>87</td>\n",
       "      <td>1</td>\n",
       "      <td>90</td>\n",
       "      <td>2</td>\n",
       "      <td>1</td>\n",
       "      <td>3000.0</td>\n",
       "      <td>800.0</td>\n",
       "      <td>1230.0</td>\n",
       "      <td>410</td>\n",
       "      <td>631.91</td>\n",
       "      <td>...</td>\n",
       "      <td>2244.10</td>\n",
       "      <td>9231.76</td>\n",
       "      <td>9286.0</td>\n",
       "      <td>136.60</td>\n",
       "      <td>140.20</td>\n",
       "      <td>9821.00</td>\n",
       "      <td>48260.0</td>\n",
       "      <td>1734973.5</td>\n",
       "      <td>5500</td>\n",
       "      <td>700</td>\n",
       "    </tr>\n",
       "  </tbody>\n",
       "</table>\n",
       "<p>5 rows × 109 columns</p>\n",
       "</div>"
      ],
      "text/plain": [
       "   START YEAR  START QUARTER  COMPLETION YEAR  COMPLETION QUARTER  V-1  \\\n",
       "0          81              1               85                   1    1   \n",
       "1          84              1               89                   4    1   \n",
       "2          78              1               81                   4    1   \n",
       "3          72              2               73                   2    1   \n",
       "4          87              1               90                   2    1   \n",
       "\n",
       "      V-2     V-3     V-4  V-5      V-6  ...   V-22.4   V-23.4  V-24.4  \\\n",
       "0  3150.0   920.0   598.5  190  1010.84  ...   815.50  1755.00  8002.0   \n",
       "1  7600.0  1140.0  3040.0  400   963.81  ...  1316.30  8364.78  8393.0   \n",
       "2  4800.0   840.0   480.0  100   689.84  ...   765.80  1755.00  4930.0   \n",
       "3   685.0   202.0    13.7   20   459.54  ...   152.25  1442.31  1456.0   \n",
       "4  3000.0   800.0  1230.0  410   631.91  ...  2244.10  9231.76  9286.0   \n",
       "\n",
       "   V-25.4  V-26.4    V-27.4   V-28.4     V-29.4   V-9  V-10  \n",
       "0   60.74   54.26   2978.26  41407.0   601988.1  2200   410  \n",
       "1   90.95   89.79  11379.37  44835.0   929027.1  5000  1000  \n",
       "2   38.70   32.04   1653.06  37933.0   377828.6  1200   170  \n",
       "3    9.73    8.34    686.16   8194.0   122031.7   165    30  \n",
       "4  136.60  140.20   9821.00  48260.0  1734973.5  5500   700  \n",
       "\n",
       "[5 rows x 109 columns]"
      ]
     },
     "execution_count": 3,
     "metadata": {},
     "output_type": "execute_result"
    }
   ],
   "source": [
    "data.head()"
   ]
  },
  {
   "cell_type": "markdown",
   "metadata": {},
   "source": [
    "## Rozdělení dat na trénovací, validační a testovací"
   ]
  },
  {
   "cell_type": "code",
   "execution_count": 4,
   "metadata": {},
   "outputs": [],
   "source": [
    "from sklearn.model_selection import train_test_split\n",
    "\n",
    "X = data.copy()\n",
    "X = X.drop(['V-9', 'V-10'], axis=1)\n",
    "Y = data.copy()[['V-9', 'V-10']]\n",
    "\n",
    "rd_seed = 100\n",
    "X_train, X_test, Y_train, Y_test = train_test_split(X, Y, test_size=0.25, random_state=rd_seed)"
   ]
  },
  {
   "cell_type": "markdown",
   "metadata": {},
   "source": [
    "## Použití lineární regrese bez úprav dat a ladění hyperparametrů"
   ]
  },
  {
   "cell_type": "code",
   "execution_count": 5,
   "metadata": {},
   "outputs": [
    {
     "data": {
      "image/png": "[encoded data removed]",
      "text/plain": [
       "<Figure size 432x288 with 1 Axes>"
      ]
     },
     "metadata": {
      "needs_background": "light"
     },
     "output_type": "display_data"
    },
    {
     "name": "stdout",
     "output_type": "stream",
     "text": [
      "MAE: 78.19469612833764\n"
     ]
    }
   ],
   "source": [
    "from sklearn.linear_model import LinearRegression\n",
    "from sklearn.metrics import mean_absolute_error\n",
    "import matplotlib.pyplot as plt\n",
    "import matplotlib\n",
    "%matplotlib inline\n",
    "\n",
    "lr = LinearRegression()\n",
    "lr.fit(X_train, Y_train)\n",
    "\n",
    "Y_predicted = lr.predict(X_test)\n",
    "plt.scatter(Y_test, Y_predicted)\n",
    "plt.plot([0,7000], [0,7000], 'r')\n",
    "plt.show()\n",
    "\n",
    "print('MAE:', (mean_absolute_error(Y_predicted, np.array(Y_test))))"
   ]
  },
  {
   "cell_type": "markdown",
   "metadata": {},
   "source": [
    "## Úprava datasetu"
   ]
  },
  {
   "cell_type": "markdown",
   "metadata": {},
   "source": [
    "* Zip code je zde v podstatě kategorická proměnná, která nám zde akorát škodí. Nelze usuzovat, že podobný zip code bude mít podobné výstupní hodnoty. Abychom tento problém vyřešili, ale zároveň nějak naložili se zip codem, který sám o sobě je docela dobrá informace, provedeme one hot encoding."
   ]
  },
  {
   "cell_type": "code",
   "execution_count": 6,
   "metadata": {},
   "outputs": [],
   "source": [
    "X = data.copy()\n",
    "zip_code_dummies = pd.get_dummies(X['V-1'])\n",
    "X = pd.concat([X.drop('V-1', axis=1), zip_code_dummies], axis=1)"
   ]
  },
  {
   "cell_type": "markdown",
   "metadata": {},
   "source": [
    "* Sloupce V-11 až V-29 jsou zde několikrát. Důvodem je zaznamenání údajů v různých fázích projektu. Můžeme to tak nechat být a brát je jako různé příznaky, nebo s touto skutečností můžeme experimentovat třeba sloučením těchto sloupců do jednoho, například jako průměr jejich hodnot."
   ]
  },
  {
   "cell_type": "code",
   "execution_count": 7,
   "metadata": {},
   "outputs": [],
   "source": [
    "def mean_timelags(row, v):\n",
    "    V = 'V-' + str(v)\n",
    "    s = row[V]\n",
    "    for i in range(1,5):\n",
    "        s += row[V + \".\" + str(i)]\n",
    "    return s/5\n",
    "\n",
    "for i in range(11, 30):\n",
    "    X['V-' + str(i)] = X.apply (lambda row: mean_timelags(row, i), axis=1)\n",
    "    for j in range(1, 5):\n",
    "        X = X.drop('V-' + str(i) + \".\" + str(j), axis=1)"
   ]
  },
  {
   "cell_type": "markdown",
   "metadata": {},
   "source": [
    "## Příznaky\n",
    "* Všechny příznaky jsou rozhodně zajímavé a užitečné. Určitě by se mezi některými z nich dala najít korelace, která je u lineární regrese nežádoucí. Nicméně zkusíme ponechat všechny příznaky."
   ]
  },
  {
   "cell_type": "markdown",
   "metadata": {},
   "source": [
    "## Standardizace, Normalizace"
   ]
  },
  {
   "cell_type": "markdown",
   "metadata": {},
   "source": [
    "* Pro linární/hřebenovou regresi si standardizací nepomůžeme a normalizace není tak užitečná/efektivní jako pro jiné modely strojového učení. Přesto zkusíme normalizovat. Použijeme MinMaxScaler."
   ]
  },
  {
   "cell_type": "code",
   "execution_count": 8,
   "metadata": {},
   "outputs": [],
   "source": [
    "from sklearn.preprocessing import MinMaxScaler\n",
    "scaler = MinMaxScaler()\n",
    "idx = X.index\n",
    "cols = X.columns\n",
    "X_minmax = pd.DataFrame(scaler.fit_transform(X), index=idx, columns=cols)"
   ]
  },
  {
   "cell_type": "markdown",
   "metadata": {},
   "source": [
    "## Použití lineární regrese na upravených datech\n",
    "* U lineární regrese pomoci metody nejmenších čtverců nebudeme ladit hyperparametry, protože nemáme žádné"
   ]
  },
  {
   "cell_type": "code",
   "execution_count": 9,
   "metadata": {},
   "outputs": [],
   "source": [
    "X_minmax = X_minmax.drop(['V-9', 'V-10'], axis=1)\n",
    "Y_minmax = data.copy()[['V-9', 'V-10']]\n",
    "\n",
    "rd_seed = 170\n",
    "X_train, X_test, Y_train, Y_test = train_test_split(X_minmax, Y_minmax, test_size=0.25, random_state=rd_seed)"
   ]
  },
  {
   "cell_type": "code",
   "execution_count": 10,
   "metadata": {},
   "outputs": [
    {
     "name": "stdout",
     "output_type": "stream",
     "text": [
      "MAE: 62.40818212365592\n"
     ]
    },
    {
     "data": {
      "image/png": "[encoded data removed]",
      "text/plain": [
       "<Figure size 432x288 with 1 Axes>"
      ]
     },
     "metadata": {
      "needs_background": "light"
     },
     "output_type": "display_data"
    }
   ],
   "source": [
    "lr = LinearRegression()\n",
    "lr.fit(X_train, Y_train)\n",
    "\n",
    "Y_predicted = lr.predict(X_test)\n",
    "print('MAE:', (mean_absolute_error(Y_predicted, np.array(Y_test))))\n",
    "plt.scatter(Y_test, Y_predicted)\n",
    "plt.plot([0,7000], [0,7000], 'r')\n",
    "plt.show()"
   ]
  },
  {
   "cell_type": "markdown",
   "metadata": {},
   "source": [
    "## Použití hřebenové regrese na upravených datech\n",
    "* Použijeme stejné úpravy jako pro lineární regresi, tedy použijeme už připravená data.\n",
    "* Snažíme se najít optimální hodnotu parametru alfa - chápeme jako ladění hyperparametru"
   ]
  },
  {
   "cell_type": "code",
   "execution_count": 11,
   "metadata": {},
   "outputs": [
    {
     "name": "stdout",
     "output_type": "stream",
     "text": [
      "Optimal alpha 0.03705389679131671\n",
      "MAE: 60.479587199233876\n"
     ]
    },
    {
     "data": {
      "image/png": "[encoded data removed]",
      "text/plain": [
       "<Figure size 432x288 with 1 Axes>"
      ]
     },
     "metadata": {
      "needs_background": "light"
     },
     "output_type": "display_data"
    }
   ],
   "source": [
    "from sklearn.linear_model import Ridge\n",
    "from sklearn.metrics import make_scorer\n",
    "from sklearn.model_selection import cross_val_score\n",
    "from scipy import optimize\n",
    "\n",
    "def get_ridge_model(X, Y):\n",
    "    \n",
    "    def ridgemodel(alpha):\n",
    "        model = Ridge(alpha=alpha)\n",
    "        return -np.mean(cross_val_score(model, X, Y, cv=5, scoring='neg_mean_absolute_error'))\n",
    "\n",
    "    opt_alpha = optimize.minimize_scalar(ridgemodel, options = {'maxiter': 50}, method = 'bounded', bounds=(0.01, 100))\n",
    "    print('Optimal alpha', opt_alpha.x)\n",
    "    model = Ridge(alpha = opt_alpha.x)\n",
    "    model.fit(X,Y)\n",
    "    return model\n",
    "\n",
    "r_model = get_ridge_model(X_train, Y_train)\n",
    "\n",
    "Yth = r_model.predict(X_test)\n",
    "plt.scatter(Y_test, Yth)\n",
    "plt.plot([0,7000], [0,7000], 'r')\n",
    "\n",
    "print('MAE:', mean_absolute_error(Yth, np.array(Y_test)))"
   ]
  },
  {
   "cell_type": "markdown",
   "metadata": {},
   "source": [
    "## Random Forest Regressor\n",
    "* Stromové struktury není třeba nestandardizujeme ani nenormalizujeme\n",
    "* Máme na výběr spoustu hyperparametrů na trénování, důležité je nepřepálit počet hodnot a parametrů, abychom vůbec dostali výsledky (zde pouze n_estimators, max_depth)"
   ]
  },
  {
   "cell_type": "code",
   "execution_count": 12,
   "metadata": {},
   "outputs": [
    {
     "name": "stdout",
     "output_type": "stream",
     "text": [
      "Best params: {'max_depth': 9, 'n_estimators': 61, 'random_state': 170}\n",
      "MAE: 84.36183044857718\n"
     ]
    }
   ],
   "source": [
    "from sklearn.ensemble import RandomForestRegressor\n",
    "from sklearn.model_selection import GridSearchCV\n",
    "\n",
    "X_rf = X.drop(['V-9', 'V-10'], axis=1)\n",
    "Y_rf = data.copy()[['V-9', 'V-10']]\n",
    "\n",
    "X_train, X_test, Y_train, Y_test = train_test_split(X_rf, Y_rf, test_size=0.25, random_state=rd_seed)\n",
    "\n",
    "rf = RandomForestRegressor()\n",
    "\n",
    "parameters = {\n",
    "    'n_estimators': range(1,100,5),\n",
    "    'max_depth': range(1,10),\n",
    "    'random_state': [rd_seed] # for tuning purposes\n",
    "#     'max_features': ['log2', 'sqrt','auto'],\n",
    "#     'min_samples_split': [2, 3, 5],\n",
    "#     'min_samples_leaf': [1, 5, 8]\n",
    "}\n",
    "\n",
    "grid_obj = GridSearchCV(rf, parameters, scoring='neg_mean_absolute_error', cv=5, iid=False, error_score='raise')\n",
    "grid_obj = grid_obj.fit(X_train, Y_train)\n",
    "\n",
    "rf = grid_obj.best_estimator_\n",
    "rf.fit(X_train, Y_train)\n",
    "\n",
    "Y_predicted = rf.predict(X_test)\n",
    "print('Best params:', grid_obj.best_params_)\n",
    "print('MAE:', (mean_absolute_error(Y_predicted, np.array(Y_test))))"
   ]
  },
  {
   "cell_type": "markdown",
   "metadata": {},
   "source": [
    "## Výsledky, závěr"
   ]
  },
  {
   "cell_type": "markdown",
   "metadata": {},
   "source": [
    "* Je vidět, že is mírnými úpravami datasetu, jako je zprůměrování sloupců a one hot encoding u zip code, jsem snížili MAE o pár desítek. Standardizace u lineární a hřebenové regrese nám pomoci nemůže a normalizace sice ano, ale opravdu jen minimálně. Dále jsem si zkusil pohrát s vyhazováním neužitečných příznaků (mimo), ale to se mi nijak neosvědčilo. Lineární a hřebenová regrese (MAE lehce nad 60) dává mnohem lepší výsledky oproti Random Forest regresi (MAE nad 80). Co se týče ohledně lineární vs. hřebenové regrese, hřebenová dává jen nepatrně lepší výsledky. Bylo ale důležité zvolit/natrénovat správnou alfu."
   ]
  }
 ],
 "metadata": {
  "kernelspec": {
   "display_name": "Python 3",
   "language": "python",
   "name": "python3"
  },
  "language_info": {
   "codemirror_mode": {
    "name": "ipython",
    "version": 3
   },
   "file_extension": ".py",
   "mimetype": "text/x-python",
   "name": "python",
   "nbconvert_exporter": "python",
   "pygments_lexer": "ipython3",
   "version": "3.7.3"
  }
 },
 "nbformat": 4,
 "nbformat_minor": 4
}
