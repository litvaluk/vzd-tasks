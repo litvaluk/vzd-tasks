{
 "cells": [
  {
   "cell_type": "markdown",
   "metadata": {},
   "source": [
    "# Úkol č. 3 - Segmentace zákazníků e-shopu (do 29. listopadu)\n",
    "\n",
    "Jednou z důležitých aplikací shlukování je **segmentace zákazníků** (angl. **customer segmentation**). \n",
    "\n",
    "Předpokládejme, že máme následující obchodní údaje o prodejích (resp. nákupech z pohledu zákazníků):\n",
    "TransactionID - ID nákupu,\n",
    "CustomerID - ID zákazníka, \n",
    "Date - datum nákupu, \n",
    "Total - celková cena nákupu.\n",
    "\n",
    "Chceme najít segmenty zákazníků, kteří se chovají podobně. K tomu je dobré informace z jednotlivých nákupů pro individuální zákazníky agregovat. Tj. získat pro každého zákazníka jeden řádek.\n",
    "\n",
    "Populárním přístupem je **RFM**, což znamená:\n",
    "\n",
    "- **R**ecency: Počet dnů od posledního nákupu (poslední datum v datasetu pro daného zákazníka).\n",
    "    - Počet dnů počítejte ke dni uskutečnění poslendní transakce v celém datasetu (tj. 12/19/2015), nikoli k dnešku. Tváříme se, že jde o aktuální data.\n",
    "- **F**requency: Počet nákupů. Občas se vynechávají zákazníci s jediným nákupem. Pro jednoduchost je zde ale necháme.\n",
    "- **M**onetary: Celková suma, kterou daný zákazník utratil.\n",
    "\n",
    "## Zdroj dat\n",
    "Budeme pracovat s daty z jednoho (skoro) vymyšleného eshopu:"
   ]
  },
  {
   "cell_type": "code",
   "execution_count": null,
   "metadata": {},
   "outputs": [],
   "source": [
    "import pandas as pd\n",
    "import numpy as np\n",
    "import matplotlib.pyplot as plt"
   ]
  },
  {
   "cell_type": "code",
   "execution_count": null,
   "metadata": {},
   "outputs": [],
   "source": [
    "df = pd.read_csv(\"eshop.csv\")"
   ]
  },
  {
   "cell_type": "code",
   "execution_count": null,
   "metadata": {},
   "outputs": [],
   "source": [
    "df.head(10)"
   ]
  },
  {
   "cell_type": "markdown",
   "metadata": {},
   "source": [
    "## Pokyny k vypracování\n",
    "\n",
    "**Základní body zadání**, za jejichž (poctivé) vypracování získáte **8 bodů**:\n",
    "- Vytvořte `rfm` data frame, kde každý řádek odpovídá jednomu zákazníkovi a sloupce (příznaky) jsou uvedené výše.\n",
    "- Pomocí algoritmu `K-means` proveďte shlukování. Nějakým způsobem také odhadněte nejlepší počet shluků (podrobně vysvětlete).\n",
    "- Zabývejte se vlivem přeškálování dat (standardizace příznaků). Tj. určete, zda je přeškálování vhodné, a proveďte ho.\n",
    "- Interpretujte jednotlivé shluky. Použijte získané shluky k odlišení \"superstar\" zákazníků (vysoká monetary, vysoká frequency a nízká recency) od nezajímavých  zákazníků (vysoká recency, nízká frequency, nízká monetary).\n",
    "\n",
    "**Další body zadání** za případné další body  (můžete si vybrat, maximum bodů za úkol je každopádně 12 bodů):\n",
    "- (až +4 body) Proveďte analýzu vytvořených shluků pomocí metody silhouette (https://en.wikipedia.org/wiki/Silhouette_(clustering)).\n",
    "- (až +4 body) Zkuste provést to samé s modifikovanou verzí **RFM**, kde Recency = \"maximum počtu měsíců od posledního nákupu a čísla 1\", Frequency = \"maximum počtu nákupů daného zákazníka v posledních 12 měsících a čísla 1\", Monetary = \"Nejvyšší hodnota nákupu daného zákazníka\". Porovnejte s původním přístupem.\n",
    "\n",
    "## Poznámky k odevzdání\n",
    "\n",
    "  * Řiďte se pokyny ze stránky https://courses.fit.cvut.cz/BI-VZD/homeworks/index.html.\n",
    "  * Odevzdejte Jupyter Notebook.\n",
    "  * Ke komentování toho, co v notebooku děláte, použijte Markdown buňky.\n",
    "  * Opravující Vám může umožnit úkol dodělat či opravit a získat tak další body. První verze je ale důležitá a bude-li odbytá, budete za to penalizováni\n"
   ]
  },
  {
   "cell_type": "markdown",
   "metadata": {},
   "source": [
    "## Řešení\n",
    "### Vytvoření RFM dataframe"
   ]
  },
  {
   "cell_type": "code",
   "execution_count": null,
   "metadata": {},
   "outputs": [],
   "source": [
    "from dateutil.parser import parse\n",
    "\n",
    "# parse date from string\n",
    "df[\"Date\"] = df[\"Date\"].apply(lambda x: parse(x))\n",
    "df[\"ID\"] = pd.Series(range(0, df.shape[0]))\n",
    "\n",
    "# set last date\n",
    "last_date = max(df[\"Date\"])\n",
    "\n",
    "# calculate RFM values\n",
    "rfm = df.groupby('Customer ID').agg({'Date' : lambda x: (last_date - x.max()).days,\n",
    "                                     'ID' : 'count', \n",
    "                                     'Subtotal' : 'sum'})\n",
    "\n",
    "# rename the columns\n",
    "rfm = rfm.rename(columns = {'Date' : 'Recency', \n",
    "                            'ID' : 'Frequency', \n",
    "                            'Subtotal' : 'Monetary'})"
   ]
  },
  {
   "cell_type": "markdown",
   "metadata": {},
   "source": [
    "### Smazání outlierů\n",
    "V dataframu se nachází jeden výjimečný případ zákazníka, který má velmi vysokou monetary oproti ostatním. Zbavíme se ho."
   ]
  },
  {
   "cell_type": "code",
   "execution_count": null,
   "metadata": {},
   "outputs": [],
   "source": [
    "print(rfm.loc[4912])\n",
    "rfm = rfm.drop(4912)"
   ]
  },
  {
   "cell_type": "code",
   "execution_count": null,
   "metadata": {},
   "outputs": [],
   "source": [
    "rfm.head(20)"
   ]
  },
  {
   "cell_type": "markdown",
   "metadata": {},
   "source": [
    "### Histogramy příznaků před standardizací"
   ]
  },
  {
   "cell_type": "code",
   "execution_count": null,
   "metadata": {},
   "outputs": [],
   "source": [
    "fig, axes = plt.subplots(nrows=3, figsize=(14, 12))\n",
    "rfm[\"Recency\"].hist(ax=axes[0], bins=50).set_xlabel(\"Recency\")\n",
    "rfm[\"Frequency\"].hist(ax=axes[1], bins=50).set_xlabel(\"Frequency\")\n",
    "rfm[\"Monetary\"].hist(ax=axes[2], bins=50).set_xlabel(\"Monetary\")"
   ]
  },
  {
   "cell_type": "markdown",
   "metadata": {},
   "source": [
    "### Standardizace\n",
    "\n",
    "Jak můžeme vidět, tak histogramy všech tří příznaků mají kladný koeficient šikmosti (mají tzv. pravý ocas). Proto by bylo vhodné je nějak transformovat do stavu, kdy budou mít koeficient šikmosti co nejblíže nule, a budou se podobat normálnímu rozdělení. Toto půjde krásně udělat u \"Recency\" a \"Monetary\". Bohužel u \"Frequency\" je minimální hodnota 1, která je ještě k tomu zastoupená v drtivé většině. Proto transformujeme pouze příznaky \"Recency\" a \"Monetary\". Využijeme PowerTransformer z scikitu, který provádí \"chytrou\" (umí rozhodnout, kterou funkci použít na transformaci) transformaci a zároveň umí i škálovat příznaky. Škálovat hodnoty u příznaku \"Frequency\" nebudeme, dá nám to větší důraz tomuto příznaku a k-means bude více rozdělovat podle frekvence.\n",
    "\n",
    "#### Power transform\n",
    "https://en.wikipedia.org/wiki/Power_transform\n",
    "\n",
    "yeo-johnson je v podstatě box-cox doplněn o vstupy s negativními hodnotami\n"
   ]
  },
  {
   "cell_type": "code",
   "execution_count": null,
   "metadata": {},
   "outputs": [],
   "source": [
    "from sklearn.preprocessing import PowerTransformer\n",
    "\n",
    "pt = PowerTransformer(copy=True, method='yeo-johnson', standardize=True)\n",
    "rfm_transformed = pd.DataFrame(pt.fit_transform(rfm[[\"Recency\", \"Monetary\"]]),\n",
    "                               index=rfm[[\"Recency\", \"Monetary\"]].index,\n",
    "                               columns=rfm[[\"Recency\", \"Monetary\"]].columns)\n",
    "\n",
    "rfm_transformed[\"Frequency\"] = rfm[\"Frequency\"].copy()\n",
    "\n",
    "# pt = PowerTransformer(copy=True, method='yeo-johnson', standardize=True)\n",
    "# rfm_transformed = pd.DataFrame(pt.fit_transform(rfm),\n",
    "#                                index=rfm.index,\n",
    "#                                columns=rfm.columns)"
   ]
  },
  {
   "cell_type": "markdown",
   "metadata": {},
   "source": [
    "### Histogramy příznaků po standardizaci"
   ]
  },
  {
   "cell_type": "code",
   "execution_count": null,
   "metadata": {},
   "outputs": [],
   "source": [
    "fig, axes = plt.subplots(nrows=3, figsize=(14, 12))\n",
    "rfm_transformed[\"Recency\"].hist(ax=axes[0], bins=50).set_xlabel(\"Recency\")\n",
    "rfm_transformed[\"Frequency\"].hist(ax=axes[1], bins=50).set_xlabel(\"Frequency\")\n",
    "rfm_transformed[\"Monetary\"].hist(ax=axes[2], bins=50).set_xlabel(\"Monetary\")"
   ]
  },
  {
   "cell_type": "markdown",
   "metadata": {},
   "source": [
    "### K-Means\n",
    "#### Zjištění nejlepší hodnoty počtu shluků pro standardizovaný dataframe\n",
    "Obecně rozhodnout o nějlepším počtu shluků je problematické. Využijeme \"elbow\" metodu."
   ]
  },
  {
   "cell_type": "code",
   "execution_count": null,
   "metadata": {},
   "outputs": [],
   "source": [
    "from sklearn.cluster import KMeans\n",
    "import seaborn as sns\n",
    "\n",
    "wcss = {}\n",
    "for k in range(1, 11):\n",
    "    kmeans = KMeans(n_clusters= k, init= \"k-means++\")\n",
    "    kmeans.fit(rfm_transformed)\n",
    "    wcss[k] = kmeans.inertia_\n",
    "\n",
    "sns.pointplot(x = list(wcss.keys()), y = list(wcss.values()))\n",
    "plt.xlabel(\"Clusters\")\n",
    "plt.ylabel(\"WCSS\")\n",
    "plt.show()"
   ]
  },
  {
   "cell_type": "markdown",
   "metadata": {},
   "source": [
    "#### K-Means pro standardizovaný dataframe, vizualizace\n",
    "Zvolíme hodnotu 5 pro počet shluků. "
   ]
  },
  {
   "cell_type": "code",
   "execution_count": null,
   "metadata": {},
   "outputs": [],
   "source": [
    "import plotly\n",
    "plotly.offline.init_notebook_mode()\n",
    "\n",
    "def plot_kmeans(df, description=\"plot\"):\n",
    "    default_colors = [\n",
    "        \"#1f77b4\",  # muted blue\n",
    "        \"#ff7f0e\",  # safety orange\n",
    "        \"#2ca02c\",  # cooked asparagus green\n",
    "        \"#d62728\",  # brick red\n",
    "        \"#9467bd\",  # muted purple\n",
    "        \"#ffff00\",  # yellow\n",
    "        \"#e377c2\",  # raspberry yogurt pink\n",
    "        \"#7f7f7f\",  # middle gray\n",
    "        \"#8c564b\",  # chestnut brown\n",
    "        \"#17becf\"   # blue-teal\n",
    "    ]\n",
    "    \n",
    "    def get_scatters(clusters):\n",
    "        scatters = []\n",
    "        for i, cluster in zip(range(0, len(clusters)), clusters):\n",
    "            scatters.append(dict(mode = \"markers\",\n",
    "                            name = \"Cluster \" + str(i+1),\n",
    "                            type = \"scatter3d\",    \n",
    "                            x = cluster.values[:,0], y = cluster.values[:,1], z = cluster.values[:,2],\n",
    "                            marker = dict( size=2, color=default_colors[i])))\n",
    "        return scatters\n",
    "\n",
    "    scatters = get_scatters([df.loc[df[\"Cluster\"] == x] for x in range(0, df[\"Cluster\"].nunique())])\n",
    "    layout = dict(title = description,\n",
    "                  scene = dict(xaxis = dict(zeroline=True),\n",
    "                               yaxis = dict(zeroline=True),\n",
    "                               zaxis = dict(zeroline=True),\n",
    "                               xaxis_title=\"Recency\",\n",
    "                               yaxis_title=\"Frequency\",\n",
    "                               zaxis_title=\"Monetary\")\n",
    "                 )\n",
    "    plotly.offline.iplot(dict(data=scatters, layout=layout), filename=\"mesh3d_sample\")\n",
    "\n",
    "km = KMeans(n_clusters=5, init= \"k-means++\", random_state=42)\n",
    "km.fit(rfm_transformed)\n",
    "rfm_with_pt = rfm.copy()\n",
    "rfm_with_pt[\"Cluster\"] = km.labels_\n",
    "    \n",
    "plot_kmeans(rfm_with_pt, description=\"Visualization of clusters with power transform\")\n",
    "# rfm_with_pt[rfm_with_pt['Cluster']]"
   ]
  },
  {
   "cell_type": "markdown",
   "metadata": {},
   "source": [
    "#### K-Means pro dataframe bez standardizace, vizualizace\n",
    "Pro porovnání s dataframem, kde jsme neprovedli standardizaci. Je vidět, že algoritmus bere velice v potaz příznak \"Recency\" a snaží se rozdělovat podle něj."
   ]
  },
  {
   "cell_type": "code",
   "execution_count": null,
   "metadata": {},
   "outputs": [],
   "source": [
    "km = KMeans(n_clusters=5, init=\"k-means++\", random_state=42)\n",
    "km.fit(rfm)\n",
    "rfm[\"Cluster\"] = km.labels_\n",
    "\n",
    "plot_kmeans(rfm, description=\"Visualization of clusters without power transform\")"
   ]
  },
  {
   "cell_type": "markdown",
   "metadata": {},
   "source": [
    "### Modifikovaná verze RFM\n",
    "- (až +4 body) Zkuste provést to samé s modifikovanou verzí **RFM**, kde Recency = \"maximum počtu měsíců od posledního nákupu a čísla 1\", Frequency = \"maximum počtu nákupů daného zákazníka v posledních 12 měsících a čísla 1\", Monetary = \"Nejvyšší hodnota nákupu daného zákazníka\". Porovnejte s původním přístupem."
   ]
  },
  {
   "cell_type": "code",
   "execution_count": null,
   "metadata": {},
   "outputs": [],
   "source": [
    "from dateutil.relativedelta import relativedelta\n",
    "\n",
    "def diff_month(d1, d2):\n",
    "    return (d1.year - d2.year) * 12 + d1.month - d2.month\n",
    "\n",
    "# calculate RM values\n",
    "rfm_modified = df.groupby('Customer ID').agg({'Date' : lambda x: max(1, diff_month(last_date, x.max())),\n",
    "                                              'Subtotal' : 'max'})\n",
    "\n",
    "# rename the columns\n",
    "rfm_modified = rfm_modified.rename(columns = {'Date' : 'Recency',\n",
    "                                              'Subtotal' : 'Monetary'})\n",
    "\n",
    "# calculate F values\n",
    "freq = df[df[\"Date\"] > last_date - relativedelta(years=1)].groupby('Customer ID').agg({'ID' : \"count\"})\n",
    "\n",
    "from dateutil.relativedelta import relativedelta\n",
    "\n",
    "def diff_month(d1, d2):\n",
    "    return (d1.year - d2.year) * 12 + d1.month - d2.month\n",
    "\n",
    "# calculate RM values\n",
    "rfm_modified = df.groupby('Customer ID').agg({'Date' : lambda x: max(1, diff_month(last_date, x.max())),\n",
    "                                              'Subtotal' : 'max'})\n",
    "\n",
    "# rename the columns\n",
    "rfm_modified = rfm_modified.rename(columns = {'Date' : 'Recency',\n",
    "                                              'Subtotal' : 'Monetary'})\n",
    "\n",
    "# calculate F values\n",
    "freq = df[df[\"Date\"] > last_date - relativedelta(years=1)].groupby('Customer ID').agg({'ID' : \"count\"})\n",
    "\n",
    "# add F to RM\n",
    "rfm_modified[\"Frequency\"] = freq[\"ID\"]\n",
    "rfm_modified[\"Frequency\"] = rfm_modified[\"Frequency\"].fillna(1)\n",
    "\n",
    "# power transform\n",
    "pt = PowerTransformer(copy=True, method='yeo-johnson', standardize=True)\n",
    "rfm_modified_transformed = pd.DataFrame(pt.fit_transform(rfm_modified[[\"Recency\", \"Monetary\"]]),\n",
    "                               index=rfm_modified[[\"Recency\", \"Monetary\"]].index,\n",
    "                               columns=rfm_modified[[\"Recency\", \"Monetary\"]].columns)\n",
    "\n",
    "rfm_modified_transformed[\"Frequency\"] = rfm_modified[\"Frequency\"].copy()\n",
    "\n",
    "km = KMeans(n_clusters=5, init=\"k-means++\", random_state=42)\n",
    "km.fit(rfm_modified_transformed)\n",
    "rfm_modified[\"Cluster\"] = km.labels_\n",
    "\n",
    "plot_kmeans(rfm_modified, description=\"Visualization of modified RFM\")"
   ]
  }
 ],
 "metadata": {
  "kernelspec": {
   "display_name": "Python 3",
   "language": "python",
   "name": "python3"
  },
  "language_info": {
   "codemirror_mode": {
    "name": "ipython",
    "version": 3
   },
   "file_extension": ".py",
   "mimetype": "text/x-python",
   "name": "python",
   "nbconvert_exporter": "python",
   "pygments_lexer": "ipython3",
   "version": "3.7.3"
  }
 },
 "nbformat": 4,
 "nbformat_minor": 4
}
